{
 "cells": [
  {
   "cell_type": "markdown",
   "metadata": {},
   "source": [
    "## 安装 Pipeline PythonSDK"
   ]
  },
  {
   "cell_type": "code",
   "execution_count": null,
   "metadata": {},
   "outputs": [],
   "source": [
    "!pip install kfp -i https://mirror.baidu.com/pypi/simple"
   ]
  },
  {
   "cell_type": "markdown",
   "metadata": {},
   "source": [
    "## 准备 PP-OCR Pipeline 的共享盘"
   ]
  },
  {
   "cell_type": "code",
   "execution_count": 1,
   "metadata": {},
   "outputs": [],
   "source": [
    "import kfp\n",
    "import kfp.dsl as dsl\n",
    "from kfp import components\n",
    "\n",
    "\n",
    "def create_volume_op():\n",
    "    \"\"\"\n",
    "    创建 PaddleOCR Pipeline 所需的共享存储盘\n",
    "    :return: VolumeOp\n",
    "    \"\"\"\n",
    "    return dsl.VolumeOp(\n",
    "        name=\"PPOCR Detection PVC\",\n",
    "        resource_name=\"ppocr-detection-pvc\",\n",
    "        storage_class=\"task-center\",\n",
    "        size=\"10Gi\",\n",
    "        modes=dsl.VOLUME_MODE_RWM\n",
    "    ).set_display_name(\"create volume for pipeline\"\n",
    "    ).add_pod_annotation(name=\"pipelines.kubeflow.org/max_cache_staleness\", value=\"P0D\")"
   ]
  },
  {
   "cell_type": "markdown",
   "metadata": {},
   "source": [
    "## 创建数据源存储Secret"
   ]
  },
  {
   "cell_type": "code",
   "execution_count": 7,
   "metadata": {},
   "outputs": [],
   "source": [
    "def create_resource_op():\n",
    "    data_source_secret = {\n",
    "        \"apiVersion\": \"v1\",\n",
    "        \"kind\": \"Secret\",\n",
    "        \"metadata\": {\n",
    "            \"name\": \"data-source\",\n",
    "            \"namespace\": \"kubeflow\",\n",
    "        },\n",
    "        \"type\": \"Opaque\",\n",
    "        \"data\": {\n",
    "            \"name\": \"ZW1wdHkgc2VjcmV0Cg==\"\n",
    "        }\n",
    "    }\n",
    "\n",
    "    return dsl.ResourceOp(\n",
    "        name=\"Data Source Secret\",\n",
    "        action='apply',\n",
    "        k8s_resource=data_source_secret,\n",
    "    ).set_display_name(\"create data source secret for SampleJob\")"
   ]
  },
  {
   "cell_type": "markdown",
   "metadata": {},
   "source": [
    "## 准备样本数据集并缓存到集群本地"
   ]
  },
  {
   "cell_type": "code",
   "execution_count": 2,
   "metadata": {},
   "outputs": [],
   "source": [
    "def create_dataset_op():\n",
    "    \"\"\"\n",
    "    将样本数据集拉取到训练集群本地并缓存\n",
    "    :return: DatasetOp\n",
    "    \"\"\"\n",
    "    dataset_op = components.load_component_from_file(\"./yaml/dataset.yaml\")\n",
    "    return dataset_op(\n",
    "        name=\"icdar2015\",\n",
    "        partitions=1,                 # 缓存分区数\n",
    "        source_secret=\"data-source\",  # 数据源的秘钥\n",
    "        source_uri=\"bos://paddleflow-public.hkg.bcebos.com/icdar2015/\"  # 样本数据URI\n",
    "    ).set_display_name(\"prepare sample data\")"
   ]
  },
  {
   "cell_type": "markdown",
   "metadata": {},
   "source": [
    "## 开始进行PP-OCR模型的训练任务"
   ]
  },
  {
   "cell_type": "code",
   "execution_count": 3,
   "metadata": {},
   "outputs": [],
   "source": [
    "def create_training_op(volume_op):\n",
    "    \"\"\"\n",
    "    使用飞桨生态套件进行模型训练的组件，支持PS和Collective两种架构模式\n",
    "    :param volume_op: 共享存储盘\n",
    "    :return: TrainingOp\n",
    "    \"\"\"\n",
    "    training_op = components.load_component_from_file(\"./yaml/training.yaml\")\n",
    "    return training_op(\n",
    "        name=\"ppocr-det\",\n",
    "        dataset=\"icdar2015\",  # 数据集\n",
    "        project=\"PaddleOCR\",  # Paddle生态项目名\n",
    "        worker_replicas=1,    # Collective模式Worker并行度\n",
    "        gpu_per_node=1,       # 指定每个worker所需的GPU个数\n",
    "        use_visualdl=True,    # 是否启动模型训练日志可视化服务\n",
    "        train_label=\"train_icdar2015_label.txt\",   # 训练集的label\n",
    "        test_label=\"test_icdar2015_label.txt\",     # 测试集的label\n",
    "        config_path=\"configs/det/det_mv3_db.yml\",  # 模型训练配置文件\n",
    "        pvc_name=volume_op.volume.persistent_volume_claim.claim_name,  # 共享存储盘\n",
    "        # 模型训练镜像\n",
    "        image=\"registry.baidubce.com/paddleflow-public/paddleocr:2.1.3-gpu-cuda10.2-cudnn7\",\n",
    "        # 修改默认模型配置\n",
    "        config_changes=\"Global.epoch_num=10,Global.log_smooth_window=2,Global.save_epoch_step=5\",\n",
    "        # 预训练模型URI\n",
    "        pretrain_model=\"https://paddle-imagenet-models-name.bj.bcebos.com/dygraph/MobileNetV3_large_x0_5_pretrained.pdparams\",\n",
    "    ).set_display_name(\"model training\")"
   ]
  },
  {
   "cell_type": "markdown",
   "metadata": {},
   "source": [
    "## 将训练好的模型上传到模型存储服务并进行版本管理"
   ]
  },
  {
   "cell_type": "code",
   "execution_count": 4,
   "metadata": {},
   "outputs": [],
   "source": [
    "def create_modelhub_op(volume_op):\n",
    "    \"\"\"\n",
    "    模型转换、存储、版本管理组件\n",
    "    :param volume_op:\n",
    "    :return:\n",
    "    \"\"\"\n",
    "    modelhub_op = components.load_component_from_file(\"./yaml/modelhub.yaml\")\n",
    "    return modelhub_op(\n",
    "        name=\"ppocr-det\",\n",
    "        model_name=\"ppocr-det\",  # 模型名称\n",
    "        model_version=\"latest\",  # 模型版本号\n",
    "        pvc_name=volume_op.volume.persistent_volume_claim.claim_name,  # 共享存储盘\n",
    "    ).set_display_name(\"upload model file\")"
   ]
  },
  {
   "cell_type": "markdown",
   "metadata": {},
   "source": [
    "## 部署模型在线推理服务"
   ]
  },
  {
   "cell_type": "code",
   "execution_count": 5,
   "metadata": {},
   "outputs": [],
   "source": [
    "def create_serving_op():\n",
    "    \"\"\"\n",
    "    部署模型服务\n",
    "    :return: ServingOp\n",
    "    \"\"\"\n",
    "    serving_op = components.load_component_from_file(\"./yaml/serving.yaml\")\n",
    "    return serving_op(\n",
    "        name=\"ppocr-det\",\n",
    "        model_name=\"ppocr-det\",  # 模型名称\n",
    "        model_version=\"latest\",  # 模型版本\n",
    "        port=9292,               # Serving使用的端口\n",
    "        # PaddleServing镜像\n",
    "        image=\"registry.baidubce.com/paddleflow-public/serving:v0.6.2\",\n",
    "    ).set_display_name(\"model serving\")"
   ]
  },
  {
   "cell_type": "markdown",
   "metadata": {},
   "source": [
    "## 编译 PP-OCR Pipeline 并提交任务"
   ]
  },
  {
   "cell_type": "code",
   "execution_count": 8,
   "metadata": {},
   "outputs": [
    {
     "data": {
      "text/html": [
       "<a href=\"http://172.16.245.151:80/#/experiments/details/1d5ce170-0108-4799-96d3-1c9352b0529a\" target=\"_blank\" >Experiment details</a>."
      ],
      "text/plain": [
       "<IPython.core.display.HTML object>"
      ]
     },
     "metadata": {},
     "output_type": "display_data"
    },
    {
     "data": {
      "text/html": [
       "<a href=\"http://172.16.245.151:80/#/runs/details/43066914-47c9-4aaa-a839-2b0a90127173\" target=\"_blank\" >Run details</a>."
      ],
      "text/plain": [
       "<IPython.core.display.HTML object>"
      ]
     },
     "metadata": {},
     "output_type": "display_data"
    }
   ],
   "source": [
    "@dsl.pipeline(\n",
    "    name=\"ppocr-detection-demo\",\n",
    "    description=\"An example for using ppocr train.\",\n",
    ")\n",
    "def ppocr_detection_demo():\n",
    "    # 创建 ppocr pipeline 各步骤所需的存储盘\n",
    "    volume_op = create_volume_op()\n",
    "    \n",
    "    # 创建数据源 Secret\n",
    "    secret_op = create_resource_op()\n",
    "\n",
    "    # 拉取远程数据（BOS/HDFS）到训练集群本地，并缓存\n",
    "    dataset_op = create_dataset_op()\n",
    "    dataset_op.execution_options.caching_strategy.max_cache_staleness = \"P0D\"\n",
    "    dataset_op.after(secret_op)\n",
    "\n",
    "    # 采用Collective模型分布式训练ppocr模型，并提供模型训练可视化服务\n",
    "    training_op = create_training_op(volume_op)\n",
    "    training_op.execution_options.caching_strategy.max_cache_staleness = \"P0D\"\n",
    "    training_op.after(dataset_op)\n",
    "\n",
    "    # 将模型转换为 PaddleServing 可用的模型格式，并上传到模型中心\n",
    "    modelhub_op = create_modelhub_op(volume_op)\n",
    "    modelhub_op.execution_options.caching_strategy.max_cache_staleness = \"P0D\"\n",
    "    modelhub_op.after(training_op)\n",
    "\n",
    "    # 从模型中心下载模型，并启动 PaddleServing 服务\n",
    "    serving_op = create_serving_op()\n",
    "    serving_op.execution_options.caching_strategy.max_cache_staleness = \"P0D\"\n",
    "    serving_op.after(modelhub_op)\n",
    "\n",
    "\n",
    "if __name__ == \"__main__\":\n",
    "    import kfp.compiler as compiler\n",
    "\n",
    "    pipeline_file = \"ppocr_detection_demo.yaml\"\n",
    "    compiler.Compiler().compile(ppocr_detection_demo, pipeline_file)\n",
    "    client = kfp.Client(host=\"http://172.16.245.151:80\")\n",
    "    run = client.create_run_from_pipeline_package(\n",
    "        pipeline_file,\n",
    "        arguments={},\n",
    "        run_name=\"paddle ocr detection demo\",\n",
    "        service_account=\"pipeline-runner\"\n",
    "    )\n"
   ]
  },
  {
   "cell_type": "code",
   "execution_count": null,
   "metadata": {},
   "outputs": [],
   "source": []
  }
 ],
 "metadata": {
  "kernelspec": {
   "display_name": "Python 3",
   "language": "python",
   "name": "python3"
  },
  "language_info": {
   "codemirror_mode": {
    "name": "ipython",
    "version": 3
   },
   "file_extension": ".py",
   "mimetype": "text/x-python",
   "name": "python",
   "nbconvert_exporter": "python",
   "pygments_lexer": "ipython3",
   "version": "3.8.6"
  }
 },
 "nbformat": 4,
 "nbformat_minor": 4
}
